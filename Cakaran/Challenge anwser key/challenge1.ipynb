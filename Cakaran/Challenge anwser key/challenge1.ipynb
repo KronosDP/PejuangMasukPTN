{
 "cells": [
  {
   "cell_type": "code",
   "execution_count": 4,
   "metadata": {},
   "outputs": [],
   "source": [
    "from sympy import symbols, Eq, solve, cos, deg\n",
    "\n",
    "a, b, c, d = symbols('a b c d')\n",
    "\n",
    "eq1 = Eq(a**2 + b**2, 100)\n",
    "eq2 = Eq(c**2 + d**2, 144)\n",
    "eq3 = Eq(8 + b, d)\n",
    "eq4 = Eq(7 + c, a)\n",
    "\n",
    "solutions = solve((eq1, eq2, eq3, eq4), (a, b, c, d))\n"
   ]
  },
  {
   "cell_type": "markdown",
   "metadata": {},
   "source": [
    "# Fixing angle\n"
   ]
  },
  {
   "cell_type": "markdown",
   "metadata": {},
   "source": [
    "$$10^2+12^2-120cos\\alpha=8^2+7^2\\\\\n",
    "244-120cos\\alpha=113\\\\\n",
    "244-113=120cos\\alpha\\\\\n",
    "\\frac{131}{120}=cos\\alpha"
   ]
  },
  {
   "cell_type": "code",
   "execution_count": 40,
   "metadata": {},
   "outputs": [
    {
     "data": {
      "text/latex": [
       "$\\displaystyle 24.3489483073891 i$"
      ],
      "text/plain": [
       "24.3489483073891*I"
      ]
     },
     "execution_count": 40,
     "metadata": {},
     "output_type": "execute_result"
    }
   ],
   "source": [
    "alpha = symbols('alpha')\n",
    "equation = Eq(131/120, cos(alpha))\n",
    "solution = solve(equation, alpha)\n",
    "deg(solution[0]).evalf()"
   ]
  },
  {
   "cell_type": "markdown",
   "metadata": {},
   "source": [
    "Sudut imaginer"
   ]
  },
  {
   "cell_type": "markdown",
   "metadata": {},
   "source": [
    "# Solving the point"
   ]
  },
  {
   "cell_type": "markdown",
   "metadata": {},
   "source": [
    "$$a^2+b^2=100\\\\\n",
    "c^2+d^2=144\\\\\n",
    "8+b=d\\\\\n",
    "7+c=a$$"
   ]
  },
  {
   "cell_type": "code",
   "execution_count": 44,
   "metadata": {},
   "outputs": [
    {
     "data": {
      "text/plain": [
       "(483/226 + 4*sqrt(40439)/113,\n",
       " -276/113 + 7*sqrt(40439)/226,\n",
       " -1099/226 + 4*sqrt(40439)/113,\n",
       " 628/113 + 7*sqrt(40439)/226)"
      ]
     },
     "execution_count": 44,
     "metadata": {},
     "output_type": "execute_result"
    }
   ],
   "source": [
    "solutions[1]"
   ]
  },
  {
   "cell_type": "code",
   "execution_count": 73,
   "metadata": {},
   "outputs": [
    {
     "name": "stdout",
     "output_type": "stream",
     "text": [
      "483/226 + 4*sqrt(40439)/113 \n",
      " 628/113 + 7*sqrt(40439)/226\n"
     ]
    }
   ],
   "source": [
    "print(solutions[1][0], \"\\n\", solutions[1][3])"
   ]
  },
  {
   "cell_type": "code",
   "execution_count": 74,
   "metadata": {},
   "outputs": [
    {
     "name": "stdout",
     "output_type": "stream",
     "text": [
      "9.25555770429070 \n",
      " 11.7861129912544\n"
     ]
    }
   ],
   "source": [
    "print(solutions[1][0].evalf(), \"\\n\",solutions[1][3].evalf())"
   ]
  }
 ],
 "metadata": {
  "kernelspec": {
   "display_name": "Python 3",
   "language": "python",
   "name": "python3"
  },
  "language_info": {
   "codemirror_mode": {
    "name": "ipython",
    "version": 3
   },
   "file_extension": ".py",
   "mimetype": "text/x-python",
   "name": "python",
   "nbconvert_exporter": "python",
   "pygments_lexer": "ipython3",
   "version": "3.11.7"
  }
 },
 "nbformat": 4,
 "nbformat_minor": 2
}
